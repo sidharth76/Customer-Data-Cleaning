{
 "cells": [
  {
   "cell_type": "code",
   "execution_count": null,
   "id": "5a4dca7e",
   "metadata": {},
   "outputs": [],
   "source": [
    "import pandas as pd"
   ]
  },
  {
   "cell_type": "code",
   "execution_count": null,
   "id": "91624e44",
   "metadata": {},
   "outputs": [],
   "source": [
    "df = pd.read_excel(r\"C:\\Users\\hp\\OneDrive\\Desktop\\data analytics\\Python\\pandas\\Datasets\\Customer Call List.xlsx\")\n",
    "df"
   ]
  },
  {
   "cell_type": "code",
   "execution_count": null,
   "id": "1357b2d8",
   "metadata": {},
   "outputs": [],
   "source": [
    "df.set_index('CustomerID', inplace = True )\n",
    "df"
   ]
  },
  {
   "cell_type": "code",
   "execution_count": null,
   "id": "b1b9a671",
   "metadata": {},
   "outputs": [],
   "source": [
    "df['Last_Name']= df['Last_Name'].str.strip('/..._')\n",
    "df"
   ]
  },
  {
   "cell_type": "code",
   "execution_count": null,
   "id": "6dc880ba",
   "metadata": {},
   "outputs": [],
   "source": [
    "df=df.drop_duplicates()\n",
    "df"
   ]
  },
  {
   "cell_type": "code",
   "execution_count": null,
   "id": "b872684d",
   "metadata": {},
   "outputs": [],
   "source": [
    "df['Phone_Number']=df['Phone_Number'].str.replace('[^a-zA-Z0-9]','')\n",
    "df\n",
    "\n",
    "\n"
   ]
  },
  {
   "cell_type": "code",
   "execution_count": null,
   "id": "3863b7fe",
   "metadata": {},
   "outputs": [],
   "source": [
    "df['Phone_Number'] = df['Phone_Number'].apply(lambda x : str(x))\n",
    "df"
   ]
  },
  {
   "cell_type": "code",
   "execution_count": null,
   "id": "cd444255",
   "metadata": {},
   "outputs": [],
   "source": [
    "df['Phone_Number'] = df['Phone_Number'].apply(lambda x : x[0:3]+'-' + x[3:6]+'-' + x[6:10])\n",
    "df"
   ]
  },
  {
   "cell_type": "code",
   "execution_count": null,
   "id": "97c5c86c",
   "metadata": {},
   "outputs": [],
   "source": [
    "\n",
    "df=df.replace(\"nan--\", '')\n",
    "df=df.replace(\"Na--\", '')\n",
    "df"
   ]
  },
  {
   "cell_type": "code",
   "execution_count": null,
   "id": "4d42314d",
   "metadata": {},
   "outputs": [],
   "source": [
    "del df[\"Not_Useful_Column\"]\n",
    "\n"
   ]
  },
  {
   "cell_type": "code",
   "execution_count": null,
   "id": "be275de1",
   "metadata": {},
   "outputs": [],
   "source": [
    "df[[\"Street_Address\", \"State\", \"ZipCode\"]] = df[\"Address\"].str.split(',', 2, expand = True)"
   ]
  },
  {
   "cell_type": "code",
   "execution_count": null,
   "id": "40085c96",
   "metadata": {},
   "outputs": [],
   "source": [
    "df"
   ]
  },
  {
   "cell_type": "code",
   "execution_count": null,
   "id": "ac30435d",
   "metadata": {},
   "outputs": [],
   "source": [
    "df['Paying Customer'] = df['Paying Customer'].replace('Yes','Y')\n",
    "df['Paying Customer'] = df['Paying Customer'].replace('No','N')\n",
    "df['Do_Not_Contact'] = df['Do_Not_Contact'].replace('Yes','Y')\n",
    "df['Do_Not_Contact'] = df['Do_Not_Contact'].replace('No','N')\n",
    "df"
   ]
  },
  {
   "cell_type": "code",
   "execution_count": null,
   "id": "93f5fe77",
   "metadata": {},
   "outputs": [],
   "source": [
    "df=df.replace('N/a','')\n"
   ]
  },
  {
   "cell_type": "code",
   "execution_count": null,
   "id": "8f3333ac",
   "metadata": {},
   "outputs": [],
   "source": [
    "df"
   ]
  },
  {
   "cell_type": "code",
   "execution_count": null,
   "id": "76699e60",
   "metadata": {},
   "outputs": [],
   "source": [
    "df=df.fillna('')\n"
   ]
  },
  {
   "cell_type": "code",
   "execution_count": null,
   "id": "241bf47c",
   "metadata": {},
   "outputs": [],
   "source": [
    "df"
   ]
  },
  {
   "cell_type": "code",
   "execution_count": null,
   "id": "ddfc9c09",
   "metadata": {},
   "outputs": [],
   "source": [
    "for x in df.index:\n",
    "    if df.loc[x, 'Do_Not_Contact'] == 'Y':\n",
    "        df.drop(x, inplace=True)\n",
    "        \n",
    "df\n"
   ]
  },
  {
   "cell_type": "code",
   "execution_count": null,
   "id": "bfec5800",
   "metadata": {},
   "outputs": [],
   "source": [
    "for x in df.index:\n",
    "    if df.loc[x, 'Phone_Number'] == '':\n",
    "        df.drop(x, inplace=True)\n",
    "        \n",
    "df"
   ]
  },
  {
   "cell_type": "code",
   "execution_count": null,
   "id": "fb677fa3",
   "metadata": {},
   "outputs": [],
   "source": [
    "df.reset_index(inplace=True)\n",
    "df"
   ]
  },
  {
   "cell_type": "code",
   "execution_count": null,
   "id": "0efb8eae",
   "metadata": {},
   "outputs": [],
   "source": [
    "del df['Address']"
   ]
  },
  {
   "cell_type": "code",
   "execution_count": 186,
   "id": "7c824283",
   "metadata": {},
   "outputs": [
    {
     "data": {
      "text/html": [
       "<div>\n",
       "<style scoped>\n",
       "    .dataframe tbody tr th:only-of-type {\n",
       "        vertical-align: middle;\n",
       "    }\n",
       "\n",
       "    .dataframe tbody tr th {\n",
       "        vertical-align: top;\n",
       "    }\n",
       "\n",
       "    .dataframe thead th {\n",
       "        text-align: right;\n",
       "    }\n",
       "</style>\n",
       "<table border=\"1\" class=\"dataframe\">\n",
       "  <thead>\n",
       "    <tr style=\"text-align: right;\">\n",
       "      <th></th>\n",
       "      <th>CustomerID</th>\n",
       "      <th>First_Name</th>\n",
       "      <th>Last_Name</th>\n",
       "      <th>Phone_Number</th>\n",
       "      <th>Paying Customer</th>\n",
       "      <th>Do_Not_Contact</th>\n",
       "      <th>Street_Address</th>\n",
       "      <th>State</th>\n",
       "      <th>ZipCode</th>\n",
       "    </tr>\n",
       "  </thead>\n",
       "  <tbody>\n",
       "    <tr>\n",
       "      <th>0</th>\n",
       "      <td>1001</td>\n",
       "      <td>Frodo</td>\n",
       "      <td>Baggins</td>\n",
       "      <td>123-545-5421</td>\n",
       "      <td>Y</td>\n",
       "      <td>N</td>\n",
       "      <td>123 Shire Lane</td>\n",
       "      <td>Shire</td>\n",
       "      <td></td>\n",
       "    </tr>\n",
       "    <tr>\n",
       "      <th>1</th>\n",
       "      <td>1005</td>\n",
       "      <td>Jon</td>\n",
       "      <td>Snow</td>\n",
       "      <td>876-678-3469</td>\n",
       "      <td>Y</td>\n",
       "      <td>N</td>\n",
       "      <td>123 Dragons Road</td>\n",
       "      <td></td>\n",
       "      <td></td>\n",
       "    </tr>\n",
       "    <tr>\n",
       "      <th>2</th>\n",
       "      <td>1008</td>\n",
       "      <td>Sherlock</td>\n",
       "      <td>Holmes</td>\n",
       "      <td>876-678-3469</td>\n",
       "      <td>N</td>\n",
       "      <td>N</td>\n",
       "      <td>98 Clue Drive</td>\n",
       "      <td></td>\n",
       "      <td></td>\n",
       "    </tr>\n",
       "    <tr>\n",
       "      <th>3</th>\n",
       "      <td>1010</td>\n",
       "      <td>Peter</td>\n",
       "      <td>Parker</td>\n",
       "      <td>123-545-5421</td>\n",
       "      <td>Y</td>\n",
       "      <td>N</td>\n",
       "      <td>25th Main Street</td>\n",
       "      <td>New York</td>\n",
       "      <td></td>\n",
       "    </tr>\n",
       "    <tr>\n",
       "      <th>4</th>\n",
       "      <td>1013</td>\n",
       "      <td>Don</td>\n",
       "      <td>Draper</td>\n",
       "      <td>123-543-2345</td>\n",
       "      <td>Y</td>\n",
       "      <td>N</td>\n",
       "      <td>2039 Main Street</td>\n",
       "      <td></td>\n",
       "      <td></td>\n",
       "    </tr>\n",
       "    <tr>\n",
       "      <th>5</th>\n",
       "      <td>1014</td>\n",
       "      <td>Leslie</td>\n",
       "      <td>Knope</td>\n",
       "      <td>876-678-3469</td>\n",
       "      <td>Y</td>\n",
       "      <td>N</td>\n",
       "      <td>343 City Parkway</td>\n",
       "      <td></td>\n",
       "      <td></td>\n",
       "    </tr>\n",
       "    <tr>\n",
       "      <th>6</th>\n",
       "      <td>1015</td>\n",
       "      <td>Toby</td>\n",
       "      <td>Flenderson</td>\n",
       "      <td>304-762-2467</td>\n",
       "      <td>N</td>\n",
       "      <td>N</td>\n",
       "      <td>214 HR Avenue</td>\n",
       "      <td></td>\n",
       "      <td></td>\n",
       "    </tr>\n",
       "    <tr>\n",
       "      <th>7</th>\n",
       "      <td>1016</td>\n",
       "      <td>Ron</td>\n",
       "      <td>Weasley</td>\n",
       "      <td>123-545-5421</td>\n",
       "      <td>N</td>\n",
       "      <td>N</td>\n",
       "      <td>2395 Hogwarts Avenue</td>\n",
       "      <td></td>\n",
       "      <td></td>\n",
       "    </tr>\n",
       "    <tr>\n",
       "      <th>8</th>\n",
       "      <td>1017</td>\n",
       "      <td>Michael</td>\n",
       "      <td>Scott</td>\n",
       "      <td>123-643-9775</td>\n",
       "      <td>Y</td>\n",
       "      <td>N</td>\n",
       "      <td>121 Paper Avenue</td>\n",
       "      <td>Pennsylvania</td>\n",
       "      <td></td>\n",
       "    </tr>\n",
       "    <tr>\n",
       "      <th>9</th>\n",
       "      <td>1020</td>\n",
       "      <td>Anakin</td>\n",
       "      <td>Skywalker</td>\n",
       "      <td>876-678-3469</td>\n",
       "      <td>Y</td>\n",
       "      <td>N</td>\n",
       "      <td>910 Tatooine Road</td>\n",
       "      <td>Tatooine</td>\n",
       "      <td></td>\n",
       "    </tr>\n",
       "  </tbody>\n",
       "</table>\n",
       "</div>"
      ],
      "text/plain": [
       "   CustomerID First_Name   Last_Name  Phone_Number Paying Customer  \\\n",
       "0        1001      Frodo     Baggins  123-545-5421               Y   \n",
       "1        1005        Jon        Snow  876-678-3469               Y   \n",
       "2        1008   Sherlock      Holmes  876-678-3469               N   \n",
       "3        1010      Peter      Parker  123-545-5421               Y   \n",
       "4        1013        Don      Draper  123-543-2345               Y   \n",
       "5        1014     Leslie       Knope  876-678-3469               Y   \n",
       "6        1015       Toby  Flenderson  304-762-2467               N   \n",
       "7        1016        Ron     Weasley  123-545-5421               N   \n",
       "8        1017   Michael        Scott  123-643-9775               Y   \n",
       "9        1020     Anakin   Skywalker  876-678-3469               Y   \n",
       "\n",
       "  Do_Not_Contact        Street_Address          State ZipCode  \n",
       "0              N        123 Shire Lane          Shire          \n",
       "1              N      123 Dragons Road                         \n",
       "2              N         98 Clue Drive                         \n",
       "3              N      25th Main Street       New York          \n",
       "4              N      2039 Main Street                         \n",
       "5              N      343 City Parkway                         \n",
       "6              N         214 HR Avenue                         \n",
       "7              N  2395 Hogwarts Avenue                         \n",
       "8              N      121 Paper Avenue   Pennsylvania          \n",
       "9              N     910 Tatooine Road       Tatooine          "
      ]
     },
     "execution_count": 186,
     "metadata": {},
     "output_type": "execute_result"
    }
   ],
   "source": [
    "df"
   ]
  },
  {
   "cell_type": "code",
   "execution_count": null,
   "id": "c7b5be6d",
   "metadata": {},
   "outputs": [],
   "source": []
  }
 ],
 "metadata": {
  "kernelspec": {
   "display_name": "Python 3 (ipykernel)",
   "language": "python",
   "name": "python3"
  },
  "language_info": {
   "codemirror_mode": {
    "name": "ipython",
    "version": 3
   },
   "file_extension": ".py",
   "mimetype": "text/x-python",
   "name": "python",
   "nbconvert_exporter": "python",
   "pygments_lexer": "ipython3",
   "version": "3.10.9"
  }
 },
 "nbformat": 4,
 "nbformat_minor": 5
}
